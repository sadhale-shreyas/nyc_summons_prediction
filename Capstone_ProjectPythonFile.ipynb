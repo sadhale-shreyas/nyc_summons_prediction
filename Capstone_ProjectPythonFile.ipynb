{
 "cells": [
  {
   "cell_type": "code",
   "execution_count": 46,
   "metadata": {
    "id": "1kpZ05FSJMbA"
   },
   "outputs": [],
   "source": [
    "#importing libraries\n",
    "\n",
    "import pandas as pd\n",
    "import numpy as np\n",
    "import seaborn as sns\n",
    "import requests\n",
    "import matplotlib.pyplot as plt\n",
    "from sklearn.metrics import mean_squared_error\n",
    "from sklearn.model_selection import train_test_split\n",
    "from sklearn.preprocessing import OneHotEncoder, OrdinalEncoder, LabelEncoder\n",
    "from sklearn.compose import ColumnTransformer\n",
    "from sklearn.metrics import accuracy_score\n",
    "from sklearn.model_selection import train_test_split, GridSearchCV\n",
    "from sklearn.metrics import mean_squared_error, r2_score\n",
    "from sklearn.model_selection import train_test_split\n",
    "from sklearn.neighbors import KNeighborsClassifier\n",
    "from sklearn.metrics import accuracy_score\n",
    "from sklearn.preprocessing import OneHotEncoder\n",
    "from sklearn.metrics import classification_report\n",
    "from tabulate import tabulate"
   ]
  },
  {
   "cell_type": "code",
   "execution_count": 47,
   "metadata": {
    "id": "8sPjB-zvJQmp"
   },
   "outputs": [],
   "source": [
    "def get_data_from_api(url):\n",
    "\n",
    "    response = requests.get(url)\n",
    "\n",
    "    data = response.json()\n",
    "\n",
    "    return data\n",
    "\n",
    "def create_dataframe(data):\n",
    "\n",
    "    df = pd.DataFrame(data)\n",
    "\n",
    "    return df\n",
    "\n",
    "def get_complete_dataframe(api_url):\n",
    "\n",
    "    url = api_url\n",
    "\n",
    "    complete_data = []\n",
    "\n",
    "    offset = 0\n",
    "\n",
    "    limit = 1000\n",
    "\n",
    "    while True:\n",
    "\n",
    "        url = api_url + f\"?$offset={offset}&$limit={limit}\"\n",
    "\n",
    "        data = get_data_from_api(url)\n",
    "\n",
    "        complete_data.extend(data)\n",
    "\n",
    "        if len(data) < limit:\n",
    "\n",
    "            break\n",
    "\n",
    "        offset += limit\n",
    "\n",
    "\n",
    "    dataframe = create_dataframe(complete_data)\n",
    "\n",
    "    return dataframe\n",
    "\n",
    "# API URL\n",
    "\n",
    "api_url = \"https://data.cityofnewyork.us/resource/mv4k-y93f.json\"\n",
    "\n",
    "# Get the complete DataFrame\n",
    "\n",
    "nyc_summon = get_complete_dataframe(api_url)"
   ]
  },
  {
   "cell_type": "code",
   "execution_count": 48,
   "metadata": {},
   "outputs": [
    {
     "name": "stdout",
     "output_type": "stream",
     "text": [
      "Data shape: (21724, 22)\n"
     ]
    }
   ],
   "source": [
    "print(\"Data shape:\", nyc_summon.shape)"
   ]
  },
  {
   "cell_type": "code",
   "execution_count": 49,
   "metadata": {
    "id": "iGRZ2a0_zJW4"
   },
   "outputs": [],
   "source": [
    "nyc_summon = nyc_summon.rename(columns = {':@computed_region_efsh_h5xi' : 'Zip_Codes',\n",
    "                                          ':@computed_region_f5dn_yrer' : 'Community Districts',\n",
    "                                          ':@computed_region_yeji_bk3q' : 'Borough Boundaries',\n",
    "                                          ':@computed_region_92fq_4b7q' : 'City Council Districts' ,\n",
    "                                          ':@computed_region_sbqj_enih' : 'Police Precincts'})"
   ]
  },
  {
   "cell_type": "code",
   "execution_count": 50,
   "metadata": {
    "colab": {
     "base_uri": "https://localhost:8080/",
     "height": 508
    },
    "id": "PJfUdGyBJRC3",
    "outputId": "47bbb333-d744-4021-da0a-e70d5e8bad87"
   },
   "outputs": [
    {
     "data": {
      "text/html": [
       "<div>\n",
       "<style scoped>\n",
       "    .dataframe tbody tr th:only-of-type {\n",
       "        vertical-align: middle;\n",
       "    }\n",
       "\n",
       "    .dataframe tbody tr th {\n",
       "        vertical-align: top;\n",
       "    }\n",
       "\n",
       "    .dataframe thead th {\n",
       "        text-align: right;\n",
       "    }\n",
       "</style>\n",
       "<table border=\"1\" class=\"dataframe\">\n",
       "  <thead>\n",
       "    <tr style=\"text-align: right;\">\n",
       "      <th></th>\n",
       "      <th>summons_key</th>\n",
       "      <th>summons_date</th>\n",
       "      <th>offense_description</th>\n",
       "      <th>law_section_number</th>\n",
       "      <th>law_description</th>\n",
       "      <th>summons_category_type</th>\n",
       "      <th>age_group</th>\n",
       "      <th>sex</th>\n",
       "      <th>race</th>\n",
       "      <th>jurisdiction_code</th>\n",
       "      <th>...</th>\n",
       "      <th>x_coordinate_cd</th>\n",
       "      <th>y_coordinate_cd</th>\n",
       "      <th>latitude</th>\n",
       "      <th>longitude</th>\n",
       "      <th>geocoded_column</th>\n",
       "      <th>Zip_Codes</th>\n",
       "      <th>Community Districts</th>\n",
       "      <th>Borough Boundaries</th>\n",
       "      <th>City Council Districts</th>\n",
       "      <th>Police Precincts</th>\n",
       "    </tr>\n",
       "  </thead>\n",
       "  <tbody>\n",
       "    <tr>\n",
       "      <th>0</th>\n",
       "      <td>262694309</td>\n",
       "      <td>2023-01-28T00:00:00.000</td>\n",
       "      <td>DISORDERLY PREMISE</td>\n",
       "      <td>106-6</td>\n",
       "      <td>ABC</td>\n",
       "      <td>ABC</td>\n",
       "      <td>65+</td>\n",
       "      <td>F</td>\n",
       "      <td>WHITE HISPANIC</td>\n",
       "      <td>0</td>\n",
       "      <td>...</td>\n",
       "      <td>1006499</td>\n",
       "      <td>233565</td>\n",
       "      <td>40.80773</td>\n",
       "      <td>-73.91963</td>\n",
       "      <td>{'type': 'Point', 'coordinates': [-73.91963, 4...</td>\n",
       "      <td>10932</td>\n",
       "      <td>49</td>\n",
       "      <td>5</td>\n",
       "      <td>35</td>\n",
       "      <td>23</td>\n",
       "    </tr>\n",
       "    <tr>\n",
       "      <th>1</th>\n",
       "      <td>262490655</td>\n",
       "      <td>2023-01-25T00:00:00.000</td>\n",
       "      <td>SMOKING IN A STORE</td>\n",
       "      <td>27-4274</td>\n",
       "      <td>(null)</td>\n",
       "      <td>(null)</td>\n",
       "      <td>18-24</td>\n",
       "      <td>M</td>\n",
       "      <td>WHITE HISPANIC</td>\n",
       "      <td>0</td>\n",
       "      <td>...</td>\n",
       "      <td>989330</td>\n",
       "      <td>189097</td>\n",
       "      <td>40.685705</td>\n",
       "      <td>-73.981681</td>\n",
       "      <td>{'type': 'Point', 'coordinates': [-73.981681, ...</td>\n",
       "      <td>17619</td>\n",
       "      <td>68</td>\n",
       "      <td>2</td>\n",
       "      <td>38</td>\n",
       "      <td>54</td>\n",
       "    </tr>\n",
       "    <tr>\n",
       "      <th>2</th>\n",
       "      <td>262604725</td>\n",
       "      <td>2023-01-27T00:00:00.000</td>\n",
       "      <td>RECKLESS DRIVING</td>\n",
       "      <td>1212</td>\n",
       "      <td>VTL</td>\n",
       "      <td>VTL</td>\n",
       "      <td>25-44</td>\n",
       "      <td>M</td>\n",
       "      <td>BLACK</td>\n",
       "      <td>0</td>\n",
       "      <td>...</td>\n",
       "      <td>995876</td>\n",
       "      <td>174823</td>\n",
       "      <td>40.64651772</td>\n",
       "      <td>-73.95810499</td>\n",
       "      <td>{'type': 'Point', 'coordinates': [-73.95810499...</td>\n",
       "      <td>13510</td>\n",
       "      <td>60</td>\n",
       "      <td>2</td>\n",
       "      <td>11</td>\n",
       "      <td>43</td>\n",
       "    </tr>\n",
       "    <tr>\n",
       "      <th>3</th>\n",
       "      <td>264134676</td>\n",
       "      <td>2023-02-23T00:00:00.000</td>\n",
       "      <td>RECKLESS DRIVING</td>\n",
       "      <td>1212</td>\n",
       "      <td>VTL</td>\n",
       "      <td>VTL</td>\n",
       "      <td>25-44</td>\n",
       "      <td>M</td>\n",
       "      <td>WHITE HISPANIC</td>\n",
       "      <td>0</td>\n",
       "      <td>...</td>\n",
       "      <td>1019953</td>\n",
       "      <td>238985</td>\n",
       "      <td>40.82256201</td>\n",
       "      <td>-73.87100164</td>\n",
       "      <td>{'type': 'Point', 'coordinates': [-73.87100164...</td>\n",
       "      <td>11611</td>\n",
       "      <td>58</td>\n",
       "      <td>5</td>\n",
       "      <td>31</td>\n",
       "      <td>26</td>\n",
       "    </tr>\n",
       "    <tr>\n",
       "      <th>4</th>\n",
       "      <td>265775874</td>\n",
       "      <td>2023-03-28T00:00:00.000</td>\n",
       "      <td>ALCOHOLIC BEVERAGE IN PUBLIC</td>\n",
       "      <td>10-125(2B)</td>\n",
       "      <td>(null)</td>\n",
       "      <td>(null)</td>\n",
       "      <td>25-44</td>\n",
       "      <td>M</td>\n",
       "      <td>WHITE</td>\n",
       "      <td>0</td>\n",
       "      <td>...</td>\n",
       "      <td>982661</td>\n",
       "      <td>175286</td>\n",
       "      <td>40.647798</td>\n",
       "      <td>-74.005723</td>\n",
       "      <td>{'type': 'Point', 'coordinates': [-74.005723, ...</td>\n",
       "      <td>18180</td>\n",
       "      <td>9</td>\n",
       "      <td>2</td>\n",
       "      <td>7</td>\n",
       "      <td>45</td>\n",
       "    </tr>\n",
       "  </tbody>\n",
       "</table>\n",
       "<p>5 rows × 22 columns</p>\n",
       "</div>"
      ],
      "text/plain": [
       "  summons_key             summons_date           offense_description  \\\n",
       "0   262694309  2023-01-28T00:00:00.000            DISORDERLY PREMISE   \n",
       "1   262490655  2023-01-25T00:00:00.000            SMOKING IN A STORE   \n",
       "2   262604725  2023-01-27T00:00:00.000              RECKLESS DRIVING   \n",
       "3   264134676  2023-02-23T00:00:00.000              RECKLESS DRIVING   \n",
       "4   265775874  2023-03-28T00:00:00.000  ALCOHOLIC BEVERAGE IN PUBLIC   \n",
       "\n",
       "  law_section_number law_description summons_category_type age_group sex  \\\n",
       "0              106-6             ABC                   ABC       65+   F   \n",
       "1            27-4274          (null)                (null)     18-24   M   \n",
       "2               1212             VTL                   VTL     25-44   M   \n",
       "3               1212             VTL                   VTL     25-44   M   \n",
       "4         10-125(2B)          (null)                (null)     25-44   M   \n",
       "\n",
       "             race jurisdiction_code  ... x_coordinate_cd y_coordinate_cd  \\\n",
       "0  WHITE HISPANIC                 0  ...         1006499          233565   \n",
       "1  WHITE HISPANIC                 0  ...          989330          189097   \n",
       "2           BLACK                 0  ...          995876          174823   \n",
       "3  WHITE HISPANIC                 0  ...         1019953          238985   \n",
       "4           WHITE                 0  ...          982661          175286   \n",
       "\n",
       "      latitude     longitude  \\\n",
       "0     40.80773     -73.91963   \n",
       "1    40.685705    -73.981681   \n",
       "2  40.64651772  -73.95810499   \n",
       "3  40.82256201  -73.87100164   \n",
       "4    40.647798    -74.005723   \n",
       "\n",
       "                                     geocoded_column Zip_Codes  \\\n",
       "0  {'type': 'Point', 'coordinates': [-73.91963, 4...     10932   \n",
       "1  {'type': 'Point', 'coordinates': [-73.981681, ...     17619   \n",
       "2  {'type': 'Point', 'coordinates': [-73.95810499...     13510   \n",
       "3  {'type': 'Point', 'coordinates': [-73.87100164...     11611   \n",
       "4  {'type': 'Point', 'coordinates': [-74.005723, ...     18180   \n",
       "\n",
       "  Community Districts Borough Boundaries City Council Districts  \\\n",
       "0                  49                  5                     35   \n",
       "1                  68                  2                     38   \n",
       "2                  60                  2                     11   \n",
       "3                  58                  5                     31   \n",
       "4                   9                  2                      7   \n",
       "\n",
       "  Police Precincts  \n",
       "0               23  \n",
       "1               54  \n",
       "2               43  \n",
       "3               26  \n",
       "4               45  \n",
       "\n",
       "[5 rows x 22 columns]"
      ]
     },
     "execution_count": 50,
     "metadata": {},
     "output_type": "execute_result"
    }
   ],
   "source": [
    "nyc_summon.head(5)"
   ]
  },
  {
   "cell_type": "code",
   "execution_count": 51,
   "metadata": {
    "colab": {
     "base_uri": "https://localhost:8080/",
     "height": 508
    },
    "id": "fqSr6juyJo_d",
    "outputId": "f7d0e2c4-e757-4d09-c512-5ef23c727c98"
   },
   "outputs": [
    {
     "data": {
      "text/html": [
       "<div>\n",
       "<style scoped>\n",
       "    .dataframe tbody tr th:only-of-type {\n",
       "        vertical-align: middle;\n",
       "    }\n",
       "\n",
       "    .dataframe tbody tr th {\n",
       "        vertical-align: top;\n",
       "    }\n",
       "\n",
       "    .dataframe thead th {\n",
       "        text-align: right;\n",
       "    }\n",
       "</style>\n",
       "<table border=\"1\" class=\"dataframe\">\n",
       "  <thead>\n",
       "    <tr style=\"text-align: right;\">\n",
       "      <th></th>\n",
       "      <th>summons_key</th>\n",
       "      <th>summons_date</th>\n",
       "      <th>offense_description</th>\n",
       "      <th>law_section_number</th>\n",
       "      <th>law_description</th>\n",
       "      <th>summons_category_type</th>\n",
       "      <th>age_group</th>\n",
       "      <th>sex</th>\n",
       "      <th>race</th>\n",
       "      <th>jurisdiction_code</th>\n",
       "      <th>...</th>\n",
       "      <th>x_coordinate_cd</th>\n",
       "      <th>y_coordinate_cd</th>\n",
       "      <th>latitude</th>\n",
       "      <th>longitude</th>\n",
       "      <th>geocoded_column</th>\n",
       "      <th>Zip_Codes</th>\n",
       "      <th>Community Districts</th>\n",
       "      <th>Borough Boundaries</th>\n",
       "      <th>City Council Districts</th>\n",
       "      <th>Police Precincts</th>\n",
       "    </tr>\n",
       "  </thead>\n",
       "  <tbody>\n",
       "    <tr>\n",
       "      <th>21719</th>\n",
       "      <td>264026696</td>\n",
       "      <td>2023-02-22T00:00:00.000</td>\n",
       "      <td>FEDERAL MOTOR VEH. SAFETY REG</td>\n",
       "      <td>CFR 49</td>\n",
       "      <td>NYS Transportation</td>\n",
       "      <td>NYS TRANS</td>\n",
       "      <td>UNKNOWN</td>\n",
       "      <td>(null)</td>\n",
       "      <td>(null)</td>\n",
       "      <td>0</td>\n",
       "      <td>...</td>\n",
       "      <td>982611</td>\n",
       "      <td>202413</td>\n",
       "      <td>40.72225345</td>\n",
       "      <td>-74.00591294</td>\n",
       "      <td>{'type': 'Point', 'coordinates': [-74.00591294...</td>\n",
       "      <td>12076</td>\n",
       "      <td>57</td>\n",
       "      <td>4</td>\n",
       "      <td>32</td>\n",
       "      <td>1</td>\n",
       "    </tr>\n",
       "    <tr>\n",
       "      <th>21720</th>\n",
       "      <td>262033003</td>\n",
       "      <td>2023-01-17T00:00:00.000</td>\n",
       "      <td>UNLICENSED GENERAL VENDOR</td>\n",
       "      <td>20-453</td>\n",
       "      <td>Administrative Code</td>\n",
       "      <td>VENDING</td>\n",
       "      <td>45-64</td>\n",
       "      <td>M</td>\n",
       "      <td>BLACK</td>\n",
       "      <td>0</td>\n",
       "      <td>...</td>\n",
       "      <td>988912</td>\n",
       "      <td>212647</td>\n",
       "      <td>40.75034217</td>\n",
       "      <td>-73.98317401</td>\n",
       "      <td>{'type': 'Point', 'coordinates': [-73.98317401...</td>\n",
       "      <td>12078</td>\n",
       "      <td>11</td>\n",
       "      <td>4</td>\n",
       "      <td>51</td>\n",
       "      <td>8</td>\n",
       "    </tr>\n",
       "    <tr>\n",
       "      <th>21721</th>\n",
       "      <td>264671196</td>\n",
       "      <td>2023-03-05T00:00:00.000</td>\n",
       "      <td>ALCOHOLIC BEVERAGE IN PUBLIC</td>\n",
       "      <td>10-125(2B)</td>\n",
       "      <td>(null)</td>\n",
       "      <td>(null)</td>\n",
       "      <td>25-44</td>\n",
       "      <td>M</td>\n",
       "      <td>BLACK</td>\n",
       "      <td>0</td>\n",
       "      <td>...</td>\n",
       "      <td>1014313</td>\n",
       "      <td>254123</td>\n",
       "      <td>40.86413235</td>\n",
       "      <td>-73.89131161</td>\n",
       "      <td>{'type': 'Point', 'coordinates': [-73.89131161...</td>\n",
       "      <td>10936</td>\n",
       "      <td>24</td>\n",
       "      <td>5</td>\n",
       "      <td>22</td>\n",
       "      <td>34</td>\n",
       "    </tr>\n",
       "    <tr>\n",
       "      <th>21722</th>\n",
       "      <td>265612207</td>\n",
       "      <td>2023-03-24T00:00:00.000</td>\n",
       "      <td>NON PAYMENT OF FARE (OTHER)</td>\n",
       "      <td>1050.4(A)</td>\n",
       "      <td>(null)</td>\n",
       "      <td>(null)</td>\n",
       "      <td>25-44</td>\n",
       "      <td>M</td>\n",
       "      <td>BLACK</td>\n",
       "      <td>1</td>\n",
       "      <td>...</td>\n",
       "      <td>1052169</td>\n",
       "      <td>159422</td>\n",
       "      <td>40.60400282</td>\n",
       "      <td>-73.75540592</td>\n",
       "      <td>{'type': 'Point', 'coordinates': [-73.75540592...</td>\n",
       "      <td>20529</td>\n",
       "      <td>51</td>\n",
       "      <td>3</td>\n",
       "      <td>47</td>\n",
       "      <td>59</td>\n",
       "    </tr>\n",
       "    <tr>\n",
       "      <th>21723</th>\n",
       "      <td>263577618</td>\n",
       "      <td>2023-02-14T00:00:00.000</td>\n",
       "      <td>FEDERAL MOTOR VEH. SAFETY REG</td>\n",
       "      <td>CFR 49</td>\n",
       "      <td>NYS Transportation</td>\n",
       "      <td>NYS TRANS</td>\n",
       "      <td>UNKNOWN</td>\n",
       "      <td>(null)</td>\n",
       "      <td>(null)</td>\n",
       "      <td>0</td>\n",
       "      <td>...</td>\n",
       "      <td>984166</td>\n",
       "      <td>188346</td>\n",
       "      <td>40.6836512406856</td>\n",
       "      <td>-74.0003043120176</td>\n",
       "      <td>{'type': 'Point', 'coordinates': [-74.00030431...</td>\n",
       "      <td>13514</td>\n",
       "      <td>14</td>\n",
       "      <td>2</td>\n",
       "      <td>27</td>\n",
       "      <td>48</td>\n",
       "    </tr>\n",
       "  </tbody>\n",
       "</table>\n",
       "<p>5 rows × 22 columns</p>\n",
       "</div>"
      ],
      "text/plain": [
       "      summons_key             summons_date            offense_description  \\\n",
       "21719   264026696  2023-02-22T00:00:00.000  FEDERAL MOTOR VEH. SAFETY REG   \n",
       "21720   262033003  2023-01-17T00:00:00.000      UNLICENSED GENERAL VENDOR   \n",
       "21721   264671196  2023-03-05T00:00:00.000   ALCOHOLIC BEVERAGE IN PUBLIC   \n",
       "21722   265612207  2023-03-24T00:00:00.000    NON PAYMENT OF FARE (OTHER)   \n",
       "21723   263577618  2023-02-14T00:00:00.000  FEDERAL MOTOR VEH. SAFETY REG   \n",
       "\n",
       "      law_section_number      law_description summons_category_type age_group  \\\n",
       "21719             CFR 49   NYS Transportation             NYS TRANS   UNKNOWN   \n",
       "21720             20-453  Administrative Code               VENDING     45-64   \n",
       "21721         10-125(2B)               (null)                (null)     25-44   \n",
       "21722          1050.4(A)               (null)                (null)     25-44   \n",
       "21723             CFR 49   NYS Transportation             NYS TRANS   UNKNOWN   \n",
       "\n",
       "          sex    race jurisdiction_code  ... x_coordinate_cd y_coordinate_cd  \\\n",
       "21719  (null)  (null)                 0  ...          982611          202413   \n",
       "21720       M   BLACK                 0  ...          988912          212647   \n",
       "21721       M   BLACK                 0  ...         1014313          254123   \n",
       "21722       M   BLACK                 1  ...         1052169          159422   \n",
       "21723  (null)  (null)                 0  ...          984166          188346   \n",
       "\n",
       "               latitude          longitude  \\\n",
       "21719       40.72225345       -74.00591294   \n",
       "21720       40.75034217       -73.98317401   \n",
       "21721       40.86413235       -73.89131161   \n",
       "21722       40.60400282       -73.75540592   \n",
       "21723  40.6836512406856  -74.0003043120176   \n",
       "\n",
       "                                         geocoded_column Zip_Codes  \\\n",
       "21719  {'type': 'Point', 'coordinates': [-74.00591294...     12076   \n",
       "21720  {'type': 'Point', 'coordinates': [-73.98317401...     12078   \n",
       "21721  {'type': 'Point', 'coordinates': [-73.89131161...     10936   \n",
       "21722  {'type': 'Point', 'coordinates': [-73.75540592...     20529   \n",
       "21723  {'type': 'Point', 'coordinates': [-74.00030431...     13514   \n",
       "\n",
       "      Community Districts Borough Boundaries City Council Districts  \\\n",
       "21719                  57                  4                     32   \n",
       "21720                  11                  4                     51   \n",
       "21721                  24                  5                     22   \n",
       "21722                  51                  3                     47   \n",
       "21723                  14                  2                     27   \n",
       "\n",
       "      Police Precincts  \n",
       "21719                1  \n",
       "21720                8  \n",
       "21721               34  \n",
       "21722               59  \n",
       "21723               48  \n",
       "\n",
       "[5 rows x 22 columns]"
      ]
     },
     "execution_count": 51,
     "metadata": {},
     "output_type": "execute_result"
    }
   ],
   "source": [
    "nyc_summon.tail(5)"
   ]
  },
  {
   "cell_type": "code",
   "execution_count": 52,
   "metadata": {
    "colab": {
     "base_uri": "https://localhost:8080/"
    },
    "id": "0j1iRXMZJRQQ",
    "outputId": "2f8cf608-728e-4c36-d007-c5baf677ec13"
   },
   "outputs": [
    {
     "data": {
      "text/plain": [
       "summons_key               object\n",
       "summons_date              object\n",
       "offense_description       object\n",
       "law_section_number        object\n",
       "law_description           object\n",
       "summons_category_type     object\n",
       "age_group                 object\n",
       "sex                       object\n",
       "race                      object\n",
       "jurisdiction_code         object\n",
       "boro                      object\n",
       "precinct_of_occur         object\n",
       "x_coordinate_cd           object\n",
       "y_coordinate_cd           object\n",
       "latitude                  object\n",
       "longitude                 object\n",
       "geocoded_column           object\n",
       "Zip_Codes                 object\n",
       "Community Districts       object\n",
       "Borough Boundaries        object\n",
       "City Council Districts    object\n",
       "Police Precincts          object\n",
       "dtype: object"
      ]
     },
     "execution_count": 52,
     "metadata": {},
     "output_type": "execute_result"
    }
   ],
   "source": [
    "nyc_summon.dtypes"
   ]
  },
  {
   "cell_type": "code",
   "execution_count": 53,
   "metadata": {
    "colab": {
     "base_uri": "https://localhost:8080/"
    },
    "id": "19w9q0J3JRXh",
    "outputId": "fd58f8af-87dc-43e0-ce45-49749b828271"
   },
   "outputs": [
    {
     "name": "stdout",
     "output_type": "stream",
     "text": [
      "<class 'pandas.core.frame.DataFrame'>\n",
      "RangeIndex: 21724 entries, 0 to 21723\n",
      "Data columns (total 22 columns):\n",
      " #   Column                  Non-Null Count  Dtype \n",
      "---  ------                  --------------  ----- \n",
      " 0   summons_key             21724 non-null  object\n",
      " 1   summons_date            21724 non-null  object\n",
      " 2   offense_description     21724 non-null  object\n",
      " 3   law_section_number      21724 non-null  object\n",
      " 4   law_description         21724 non-null  object\n",
      " 5   summons_category_type   21724 non-null  object\n",
      " 6   age_group               21724 non-null  object\n",
      " 7   sex                     21724 non-null  object\n",
      " 8   race                    21724 non-null  object\n",
      " 9   jurisdiction_code       21724 non-null  object\n",
      " 10  boro                    21724 non-null  object\n",
      " 11  precinct_of_occur       21724 non-null  object\n",
      " 12  x_coordinate_cd         21724 non-null  object\n",
      " 13  y_coordinate_cd         21724 non-null  object\n",
      " 14  latitude                21724 non-null  object\n",
      " 15  longitude               21724 non-null  object\n",
      " 16  geocoded_column         21724 non-null  object\n",
      " 17  Zip_Codes               21631 non-null  object\n",
      " 18  Community Districts     21723 non-null  object\n",
      " 19  Borough Boundaries      21723 non-null  object\n",
      " 20  City Council Districts  21723 non-null  object\n",
      " 21  Police Precincts        21723 non-null  object\n",
      "dtypes: object(22)\n",
      "memory usage: 3.6+ MB\n"
     ]
    }
   ],
   "source": [
    "nyc_summon.info()"
   ]
  },
  {
   "cell_type": "code",
   "execution_count": 54,
   "metadata": {
    "colab": {
     "base_uri": "https://localhost:8080/"
    },
    "id": "4T1eqzodJReR",
    "outputId": "c6707b34-22ba-4ec1-97d5-8750c8b2aa9f"
   },
   "outputs": [
    {
     "data": {
      "text/plain": [
       "summons_key                0\n",
       "summons_date               0\n",
       "offense_description        0\n",
       "law_section_number         0\n",
       "law_description            0\n",
       "summons_category_type      0\n",
       "age_group                  0\n",
       "sex                        0\n",
       "race                       0\n",
       "jurisdiction_code          0\n",
       "boro                       0\n",
       "precinct_of_occur          0\n",
       "x_coordinate_cd            0\n",
       "y_coordinate_cd            0\n",
       "latitude                   0\n",
       "longitude                  0\n",
       "geocoded_column            0\n",
       "Zip_Codes                 93\n",
       "Community Districts        1\n",
       "Borough Boundaries         1\n",
       "City Council Districts     1\n",
       "Police Precincts           1\n",
       "dtype: int64"
      ]
     },
     "execution_count": 54,
     "metadata": {},
     "output_type": "execute_result"
    }
   ],
   "source": [
    "nyc_summon.isnull().sum() #sum of the nulls"
   ]
  },
  {
   "cell_type": "code",
   "execution_count": 55,
   "metadata": {},
   "outputs": [],
   "source": [
    "nyc_summon = nyc_summon.dropna()"
   ]
  },
  {
   "cell_type": "code",
   "execution_count": 56,
   "metadata": {},
   "outputs": [
    {
     "name": "stdout",
     "output_type": "stream",
     "text": [
      "Missing values after dropping:\n",
      " summons_key               0\n",
      "summons_date              0\n",
      "offense_description       0\n",
      "law_section_number        0\n",
      "law_description           0\n",
      "summons_category_type     0\n",
      "age_group                 0\n",
      "sex                       0\n",
      "race                      0\n",
      "jurisdiction_code         0\n",
      "boro                      0\n",
      "precinct_of_occur         0\n",
      "x_coordinate_cd           0\n",
      "y_coordinate_cd           0\n",
      "latitude                  0\n",
      "longitude                 0\n",
      "geocoded_column           0\n",
      "Zip_Codes                 0\n",
      "Community Districts       0\n",
      "Borough Boundaries        0\n",
      "City Council Districts    0\n",
      "Police Precincts          0\n",
      "dtype: int64\n"
     ]
    }
   ],
   "source": [
    "print(\"Missing values after dropping:\\n\", nyc_summon.isnull().sum())"
   ]
  },
  {
   "cell_type": "code",
   "execution_count": 57,
   "metadata": {
    "colab": {
     "base_uri": "https://localhost:8080/"
    },
    "id": "30zPUSEnJRlW",
    "outputId": "3115f254-46e4-4cc7-c5b9-ca585ed48b0b"
   },
   "outputs": [
    {
     "data": {
      "text/plain": [
       "BRONX            5689\n",
       "BROOKLYN         8130\n",
       "MANHATTAN        3829\n",
       "NEW YORK           40\n",
       "QUEENS           3602\n",
       "STATEN ISLAND     340\n",
       "Name: boro, dtype: int64"
      ]
     },
     "execution_count": 57,
     "metadata": {},
     "output_type": "execute_result"
    }
   ],
   "source": [
    "nyc_summon['boro'].value_counts().sort_index() #total of each unique count from borough"
   ]
  },
  {
   "cell_type": "code",
   "execution_count": 58,
   "metadata": {
    "colab": {
     "base_uri": "https://localhost:8080/"
    },
    "id": "XrU17oz1JRsX",
    "outputId": "532133a7-5bb9-4a77-a3a8-626396889441"
   },
   "outputs": [
    {
     "data": {
      "text/plain": [
       "(null)                            5567\n",
       "AMERICAN INDIAN/ALASKAN NATIVE     141\n",
       "ASIAN / PACIFIC ISLANDER          1106\n",
       "BLACK                             7443\n",
       "BLACK HISPANIC                    1477\n",
       "OTHER                               66\n",
       "UNKNOWN                            224\n",
       "WHITE                             1296\n",
       "WHITE HISPANIC                    4310\n",
       "Name: race, dtype: int64"
      ]
     },
     "execution_count": 58,
     "metadata": {},
     "output_type": "execute_result"
    }
   ],
   "source": [
    "nyc_summon['race'].value_counts().sort_index() #total of each unique count from race"
   ]
  },
  {
   "cell_type": "code",
   "execution_count": 59,
   "metadata": {
    "colab": {
     "base_uri": "https://localhost:8080/"
    },
    "id": "SIaZVCkeJRzT",
    "outputId": "6adecf59-8cb3-4e42-b5a1-f9b0a3074854"
   },
   "outputs": [
    {
     "data": {
      "text/plain": [
       "18-24      3264\n",
       "25-44      8591\n",
       "45-64      3438\n",
       "65+         273\n",
       "<18         459\n",
       "UNKNOWN    5605\n",
       "Name: age_group, dtype: int64"
      ]
     },
     "execution_count": 59,
     "metadata": {},
     "output_type": "execute_result"
    }
   ],
   "source": [
    "nyc_summon['age_group'].value_counts().sort_index() #total of each unique count from age group"
   ]
  },
  {
   "cell_type": "code",
   "execution_count": 60,
   "metadata": {
    "colab": {
     "base_uri": "https://localhost:8080/"
    },
    "id": "wObV1QB-JR6i",
    "outputId": "fcc9d0cb-c14c-46c8-920d-bb1d20485397"
   },
   "outputs": [
    {
     "data": {
      "text/plain": [
       "(null)     5567\n",
       "F          1748\n",
       "M         14234\n",
       "U            81\n",
       "Name: sex, dtype: int64"
      ]
     },
     "execution_count": 60,
     "metadata": {},
     "output_type": "execute_result"
    }
   ],
   "source": [
    "nyc_summon['sex'].value_counts().sort_index() #total of each unique count from sex"
   ]
  },
  {
   "cell_type": "code",
   "execution_count": 61,
   "metadata": {
    "colab": {
     "base_uri": "https://localhost:8080/"
    },
    "id": "ImEgUKGvJSAi",
    "outputId": "4f71a2c8-cde5-4ef4-c5ce-3e79b934e1ea"
   },
   "outputs": [
    {
     "data": {
      "text/plain": [
       "0    17867\n",
       "1      763\n",
       "2     3000\n",
       "Name: jurisdiction_code, dtype: int64"
      ]
     },
     "execution_count": 61,
     "metadata": {},
     "output_type": "execute_result"
    }
   ],
   "source": [
    "nyc_summon['jurisdiction_code'].value_counts().sort_index() #total of each unique count from jurisdiction code"
   ]
  },
  {
   "cell_type": "code",
   "execution_count": 62,
   "metadata": {
    "id": "yOtk9DkkJSHU"
   },
   "outputs": [
    {
     "data": {
      "image/png": "[encoded data removed]",
      "text/plain": [
       "<Figure size 432x288 with 1 Axes>"
      ]
     },
     "metadata": {
      "needs_background": "light"
     },
     "output_type": "display_data"
    }
   ],
   "source": [
    "data1 = nyc_summon['age_group']\n",
    "counts = data1.value_counts().sort_index()\n",
    "plt.plot(counts.index, counts.values, color = 'red')  #line plot for age-wise distribution of summonses\n",
    "plt.xlabel('Age Groups')\n",
    "plt.ylabel('Count of Summonses')\n",
    "plt.title('Age wise Distribution of Summons')\n",
    "plt.show()"
   ]
  },
  {
   "cell_type": "code",
   "execution_count": 63,
   "metadata": {
    "id": "YVEU69NjJSOp"
   },
   "outputs": [
    {
     "name": "stderr",
     "output_type": "stream",
     "text": [
      "C:\\Users\\swath\\AppData\\Local\\Temp\\ipykernel_20776\\3413090218.py:5: UserWarning: FixedFormatter should only be used together with FixedLocator\n",
      "  bar1.set_xticklabels(bar1.get_xticklabels(), rotation = 90);\n"
     ]
    },
    {
     "data": {
      "text/plain": [
       "Text(0.5, 1.0, 'Count of Summons based on BORO')"
      ]
     },
     "execution_count": 63,
     "metadata": {},
     "output_type": "execute_result"
    },
    {
     "data": {
      "image/png": "[encoded data removed]",
      "text/plain": [
       "<Figure size 432x288 with 1 Axes>"
      ]
     },
     "metadata": {
      "needs_background": "light"
     },
     "output_type": "display_data"
    }
   ],
   "source": [
    "#histplot for count of summonses based on borough\n",
    "\n",
    "bar1 = sns.histplot(nyc_summon['boro'],\n",
    "                    color = 'lightgreen')\n",
    "bar1.set_xticklabels(bar1.get_xticklabels(), rotation = 90);\n",
    "plt.xlabel(\"BORO\")\n",
    "plt.ylabel(\"Count of BORO's\")\n",
    "plt.title(\"Count of Summons based on BORO\")"
   ]
  },
  {
   "cell_type": "code",
   "execution_count": 64,
   "metadata": {
    "colab": {
     "base_uri": "https://localhost:8080/"
    },
    "id": "pfdCoE02JSVv",
    "outputId": "eeb3e99b-bdcd-4e4c-a783-4de48d5d9676"
   },
   "outputs": [
    {
     "data": {
      "text/plain": [
       "(null)     5567\n",
       "F          1748\n",
       "M         14234\n",
       "U            81\n",
       "Name: sex, dtype: int64"
      ]
     },
     "execution_count": 64,
     "metadata": {},
     "output_type": "execute_result"
    }
   ],
   "source": [
    "u_sex = nyc_summon['sex'].value_counts().sort_index() #total of each unique count from sex\n",
    "u_sex"
   ]
  },
  {
   "cell_type": "code",
   "execution_count": 65,
   "metadata": {
    "id": "paO33kx9JScb"
   },
   "outputs": [
    {
     "data": {
      "text/plain": [
       "<function matplotlib.pyplot.show(close=None, block=None)>"
      ]
     },
     "execution_count": 65,
     "metadata": {},
     "output_type": "execute_result"
    },
    {
     "data": {
      "image/png": "[encoded data removed]",
      "text/plain": [
       "<Figure size 432x288 with 1 Axes>"
      ]
     },
     "metadata": {},
     "output_type": "display_data"
    }
   ],
   "source": [
    "#piechart based on distribution of different sex involved in summonses\n",
    "\n",
    "colors = ['cyan', 'tomato', 'springgreen', 'peachpuff']\n",
    "plt.pie(u_sex, autopct = '%.1f%%', labels = u_sex.index, startangle= 90, colors = colors)\n",
    "plt.title('Distribution based on sex')\n",
    "plt.show\n"
   ]
  },
  {
   "cell_type": "code",
   "execution_count": 66,
   "metadata": {
    "id": "pN0goRACJSir"
   },
   "outputs": [
    {
     "data": {
      "text/plain": [
       "month\n",
       "1    6946\n",
       "2    6596\n",
       "3    8088\n",
       "dtype: int64"
      ]
     },
     "execution_count": 66,
     "metadata": {},
     "output_type": "execute_result"
    }
   ],
   "source": [
    "#getting the total count of summonses for each month\n",
    "\n",
    "nyc_summon1 = nyc_summon\n",
    "nyc_summon1['summons_date'] = pd.to_datetime(nyc_summon1['summons_date'])\n",
    "nyc_summon1['month'] = nyc_summon1['summons_date'].dt.month\n",
    "month_counts = nyc_summon1.groupby('month').size()\n",
    "month_counts\n"
   ]
  },
  {
   "cell_type": "code",
   "execution_count": 67,
   "metadata": {
    "id": "xrBooK9GJSot"
   },
   "outputs": [
    {
     "data": {
      "image/png": "[encoded data removed]",
      "text/plain": [
       "<Figure size 432x288 with 1 Axes>"
      ]
     },
     "metadata": {
      "needs_background": "light"
     },
     "output_type": "display_data"
    }
   ],
   "source": [
    "#line plot the monthly trend of summonses\n",
    "\n",
    "plt.plot(month_counts.index, month_counts.values, marker = '', color = 'salmon')\n",
    "plt.xticks(range(len(month_counts.index)+2))\n",
    "for x,y in zip(month_counts.index, month_counts.values):\n",
    "  plt.text(x,y, str(y), ha = 'center', va = 'bottom')\n",
    "plt.title('Monthly Trend in Summons')\n",
    "plt.xlabel('Months')\n",
    "plt.ylabel('Count of Summonses')\n",
    "plt.show()"
   ]
  },
  {
   "cell_type": "code",
   "execution_count": 68,
   "metadata": {
    "colab": {
     "base_uri": "https://localhost:8080/",
     "height": 136
    },
    "id": "x1wbdLZX07s7",
    "outputId": "b7ecfdb9-0736-4cc2-c16b-2097f8461565"
   },
   "outputs": [
    {
     "data": {
      "text/html": [
       "<div>\n",
       "<style scoped>\n",
       "    .dataframe tbody tr th:only-of-type {\n",
       "        vertical-align: middle;\n",
       "    }\n",
       "\n",
       "    .dataframe tbody tr th {\n",
       "        vertical-align: top;\n",
       "    }\n",
       "\n",
       "    .dataframe thead th {\n",
       "        text-align: right;\n",
       "    }\n",
       "</style>\n",
       "<table border=\"1\" class=\"dataframe\">\n",
       "  <thead>\n",
       "    <tr style=\"text-align: right;\">\n",
       "      <th></th>\n",
       "      <th>month</th>\n",
       "    </tr>\n",
       "  </thead>\n",
       "  <tbody>\n",
       "    <tr>\n",
       "      <th>month</th>\n",
       "      <td>1.0</td>\n",
       "    </tr>\n",
       "  </tbody>\n",
       "</table>\n",
       "</div>"
      ],
      "text/plain": [
       "       month\n",
       "month    1.0"
      ]
     },
     "execution_count": 68,
     "metadata": {},
     "output_type": "execute_result"
    }
   ],
   "source": [
    "#correlation matrix for the summons data with rounded value of 2\n",
    "\n",
    "corr = nyc_summon.corr().round(2)\n",
    "corr"
   ]
  },
  {
   "cell_type": "code",
   "execution_count": 69,
   "metadata": {
    "id": "PUzFUPWFPLdU"
   },
   "outputs": [
    {
     "data": {
      "text/plain": [
       "<AxesSubplot:>"
      ]
     },
     "execution_count": 69,
     "metadata": {},
     "output_type": "execute_result"
    },
    {
     "data": {
      "image/png": "[encoded data removed]",
      "text/plain": [
       "<Figure size 432x288 with 2 Axes>"
      ]
     },
     "metadata": {
      "needs_background": "light"
     },
     "output_type": "display_data"
    }
   ],
   "source": [
    "#heatmap of the correlation matrix plotted above\n",
    "\n",
    "corrplot = sns.heatmap(corr, annot = True, cmap = 'YlGnBu', fmt = \"0.1f\")\n",
    "corrplot"
   ]
  },
  {
   "cell_type": "code",
   "execution_count": 70,
   "metadata": {
    "id": "DYGUyhX0PMxb"
   },
   "outputs": [
    {
     "data": {
      "image/png": "[encoded data removed]",
      "text/plain": [
       "<Figure size 576x576 with 1 Axes>"
      ]
     },
     "metadata": {},
     "output_type": "display_data"
    }
   ],
   "source": [
    "import functions\n",
    "\n",
    "# Call the function with the appropriate data\n",
    "functions.plot_race_distribution(nyc_summon)\n"
   ]
  },
  {
   "cell_type": "code",
   "execution_count": 71,
   "metadata": {
    "id": "9SZHrPZ3PM7L"
   },
   "outputs": [
    {
     "data": {
      "image/png": "[encoded data removed]",
      "text/plain": [
       "<Figure size 720x432 with 1 Axes>"
      ]
     },
     "metadata": {
      "needs_background": "light"
     },
     "output_type": "display_data"
    }
   ],
   "source": [
    "from functions import plot_age_group_distribution\n",
    "\n",
    "# Assuming you have loaded the data into the 'nyc_summon' DataFrame\n",
    "plot_age_group_distribution(nyc_summon)\n"
   ]
  },
  {
   "cell_type": "code",
   "execution_count": 72,
   "metadata": {
    "id": "wmwZKU4yPNEK"
   },
   "outputs": [
    {
     "data": {
      "text/plain": [
       "<Figure size 720x432 with 0 Axes>"
      ]
     },
     "metadata": {},
     "output_type": "display_data"
    },
    {
     "data": {
      "image/png": "[encoded data removed]",
      "text/plain": [
       "<Figure size 432x288 with 1 Axes>"
      ]
     },
     "metadata": {
      "needs_background": "light"
     },
     "output_type": "display_data"
    }
   ],
   "source": [
    "borough_sex_counts = nyc_summon.groupby(['boro', 'sex']).size().unstack()\n",
    "\n",
    "plt.figure(figsize=(10, 6))\n",
    "borough_sex_counts.plot(kind='bar', stacked=True)\n",
    "plt.xlabel('Borough')\n",
    "plt.ylabel('Count')\n",
    "plt.title('Distribution of Sex by Borough')\n",
    "plt.legend(title='Sex')\n",
    "plt.show()"
   ]
  },
  {
   "cell_type": "code",
   "execution_count": 73,
   "metadata": {
    "id": "hBSWVVDqPcBw"
   },
   "outputs": [
    {
     "data": {
      "image/png": "[encoded data removed]",
      "text/plain": [
       "<Figure size 576x432 with 1 Axes>"
      ]
     },
     "metadata": {
      "needs_background": "light"
     },
     "output_type": "display_data"
    }
   ],
   "source": [
    "plt.figure(figsize=(8, 6))\n",
    "borough_counts = nyc_summon['boro'].value_counts()\n",
    "plt.bar(borough_counts.index, borough_counts.values, color = 'darkred')\n",
    "plt.xlabel('Borough')\n",
    "plt.ylabel('Count')\n",
    "plt.title('Distribution of Summons by Borough')\n",
    "plt.show()"
   ]
  },
  {
   "cell_type": "code",
   "execution_count": 42,
   "metadata": {
    "id": "N_Ok8AzDPhhM"
   },
   "outputs": [
    {
     "data": {
      "text/plain": [
       "<Figure size 720x432 with 0 Axes>"
      ]
     },
     "metadata": {},
     "output_type": "display_data"
    },
    {
     "data": {
      "image/png": "[encoded data removed]",
      "text/plain": [
       "<Figure size 432x288 with 1 Axes>"
      ]
     },
     "metadata": {
      "needs_background": "light"
     },
     "output_type": "display_data"
    }
   ],
   "source": [
    "# Select specific types from summons_category_type variable\n",
    "selected_types = ['BIKE', 'ALCOHOL', 'DISORDERLY CONDUCT', 'VTL']\n",
    "\n",
    "# Filter the DataFrame based on selected types\n",
    "filtered_data = nyc_summon[nyc_summon['summons_category_type'].isin(selected_types)]\n",
    "\n",
    "# Create a cross-tabulation of summons_category_type and boro\n",
    "cross_tab = pd.crosstab(filtered_data['summons_category_type'], filtered_data['boro'])\n",
    "\n",
    "# Plot the stacked bar chart\n",
    "plt.figure(figsize=(10, 6))\n",
    "cross_tab.plot(kind='bar', stacked=True)\n",
    "plt.xlabel('Summons Category Type')\n",
    "plt.ylabel('Count')\n",
    "plt.title('Distribution of Summons Category Types by Borough')\n",
    "plt.legend(title='Borough')\n",
    "plt.show()"
   ]
  },
  {
   "cell_type": "code",
   "execution_count": 74,
   "metadata": {
    "colab": {
     "base_uri": "https://localhost:8080/"
    },
    "id": "0jQLi2wvbJwd",
    "outputId": "1a5c917b-4204-4c3f-9abe-5a22db4ddac1"
   },
   "outputs": [
    {
     "name": "stdout",
     "output_type": "stream",
     "text": [
      "Accuracy: 0.9462166743720142\n",
      "Classification Report:\n",
      "                         precision    recall  f1-score   support\n",
      "\n",
      "                (null)       0.94      0.96      0.95      2634\n",
      "                   ABC       1.00      0.26      0.41        31\n",
      "               AIR GUN       1.00      0.53      0.69        17\n",
      "               ALCOHOL       0.98      0.99      0.98       314\n",
      "                  AMMO       1.00      1.00      1.00         1\n",
      "             AVIGATION       0.00      0.00      0.00         1\n",
      "                  BIKE       0.97      0.98      0.98       128\n",
      "              BUSINESS       1.00      0.33      0.50         3\n",
      "    DISORDERLY CONDUCT       0.99      0.88      0.93       187\n",
      "                   DOG       1.00      0.12      0.22         8\n",
      "         EDUCATION LAW       1.00      1.00      1.00         3\n",
      "              EXPOSURE       0.00      0.00      0.00         5\n",
      "             FIREWORKS       1.00      0.67      0.80         3\n",
      "              GAMBLING       0.00      0.00      0.00         2\n",
      "          HARASSMENT 2       0.00      0.00      0.00         5\n",
      "                   KEY       0.00      0.00      0.00         2\n",
      "                 KNIFE       1.00      0.90      0.95        31\n",
      "             LITTERING       1.00      0.98      0.99        65\n",
      "             LOITERING       0.00      0.00      0.00         1\n",
      "                 NOISE       1.00      0.82      0.90        62\n",
      "             NYS TRANS       0.99      1.00      0.99      1277\n",
      "             OPEN FIRE       0.00      0.00      0.00         3\n",
      "          OPEN HYDRANT       0.00      0.00      0.00         1\n",
      "             OTHER ABC       1.00      0.77      0.87       102\n",
      "      OTHER ADMIN CODE       1.00      0.75      0.86        32\n",
      "        OTHER PARK REG       0.00      0.00      0.00         3\n",
      "       OTHER PENAL LAW       0.97      1.00      0.99        71\n",
      "             PARK REGS       1.00      0.62      0.76        21\n",
      "POSTING ADVERTISEMENTS       0.00      0.00      0.00         5\n",
      "         SANITARY CODE       1.00      1.00      1.00         2\n",
      "               SMOKING       1.00      0.93      0.97        15\n",
      "              SPITTING       1.00      0.60      0.75        15\n",
      "                   TLC       0.54      0.92      0.68       187\n",
      "             TOW TRUCK       0.00      0.00      0.00         2\n",
      "          TRAFFIC REGS       1.00      0.81      0.89        26\n",
      "              TRESPASS       0.99      0.99      0.99       335\n",
      "             URINATING       1.00      0.77      0.87        31\n",
      "               VENDING       0.99      0.77      0.87        93\n",
      "                   VTL       0.98      0.96      0.97       765\n",
      "\n",
      "              accuracy                           0.95      6489\n",
      "             macro avg       0.70      0.57      0.61      6489\n",
      "          weighted avg       0.95      0.95      0.94      6489\n",
      "\n"
     ]
    },
    {
     "name": "stderr",
     "output_type": "stream",
     "text": [
      "C:\\Users\\swath\\anaconda3\\lib\\site-packages\\sklearn\\metrics\\_classification.py:1318: UndefinedMetricWarning: Precision and F-score are ill-defined and being set to 0.0 in labels with no predicted samples. Use `zero_division` parameter to control this behavior.\n",
      "  _warn_prf(average, modifier, msg_start, len(result))\n",
      "C:\\Users\\swath\\anaconda3\\lib\\site-packages\\sklearn\\metrics\\_classification.py:1318: UndefinedMetricWarning: Precision and F-score are ill-defined and being set to 0.0 in labels with no predicted samples. Use `zero_division` parameter to control this behavior.\n",
      "  _warn_prf(average, modifier, msg_start, len(result))\n",
      "C:\\Users\\swath\\anaconda3\\lib\\site-packages\\sklearn\\metrics\\_classification.py:1318: UndefinedMetricWarning: Precision and F-score are ill-defined and being set to 0.0 in labels with no predicted samples. Use `zero_division` parameter to control this behavior.\n",
      "  _warn_prf(average, modifier, msg_start, len(result))\n"
     ]
    }
   ],
   "source": [
    "#Select the features and target variables\n",
    "features = nyc_summon[['age_group', 'race', 'sex', 'offense_description', 'jurisdiction_code']]\n",
    "target = nyc_summon['summons_category_type']\n",
    "\n",
    "#Performing one-hot encoding on the categorical data\n",
    "encoder = OneHotEncoder(drop='first', sparse=False)\n",
    "encoded_features = pd.DataFrame(encoder.fit_transform(features.select_dtypes(include='object')))\n",
    "numerical_features = features.select_dtypes(exclude='object').reset_index(drop=True)\n",
    "encoded_features = pd.concat([encoded_features, numerical_features], axis=1)\n",
    "\n",
    "#Splitting the data\n",
    "X_train, X_test, y_train, y_test = train_test_split(encoded_features, target, test_size=0.3, random_state=42)\n",
    "\n",
    "#Converting feature columns into strings\n",
    "X_train.columns = X_train.columns.astype(str)\n",
    "X_test.columns = X_test.columns.astype(str)\n",
    "\n",
    "#Calling the KNeighborsClassifier\n",
    "model = KNeighborsClassifier()\n",
    "\n",
    "#Fitting the model\n",
    "model.fit(X_train, y_train)\n",
    "\n",
    "#Predicting the target variable\n",
    "predictions = model.predict(X_test)\n",
    "\n",
    "#The accuracy score\n",
    "\n",
    "accuracy = accuracy_score(y_test, predictions)\n",
    "print(\"Accuracy:\", accuracy)\n",
    "\n",
    "#Calculating the evaluation matrix\n",
    "report = classification_report(y_test, predictions)\n",
    "\n",
    "# Print the classification report\n",
    "print(\"Classification Report:\\n\", report)"
   ]
  },
  {
   "cell_type": "code",
   "execution_count": 75,
   "metadata": {
    "colab": {
     "base_uri": "https://localhost:8080/"
    },
    "id": "i1hXoikDIq-u",
    "outputId": "fc5ddd4f-5661-4dfc-eb67-f4080c5f1da8"
   },
   "outputs": [
    {
     "name": "stdout",
     "output_type": "stream",
     "text": [
      "| Metric   |   Value |\n",
      "|:---------|--------:|\n",
      "| Accuracy |    \u001b[92m0.95\u001b[0m |\n"
     ]
    }
   ],
   "source": [
    "#printing the accuracy in the table\n",
    "\n",
    "table_data = [[\"Accuracy\", f\"\\033[92m{accuracy:.2f}\\033[0m\"]]\n",
    "table = tabulate(table_data, headers=[\"Metric\", \"Value\"], tablefmt=\"pipe\")\n",
    "print(table)"
   ]
  },
  {
   "cell_type": "code",
   "execution_count": 76,
   "metadata": {
    "colab": {
     "base_uri": "https://localhost:8080/"
    },
    "id": "u0X4AiqnO2L0",
    "outputId": "60ddd2da-8a29-4c0c-c8ed-bf80bb8f6fcf"
   },
   "outputs": [
    {
     "name": "stdout",
     "output_type": "stream",
     "text": [
      "Accuracy: 0.9693327169055325\n"
     ]
    },
    {
     "name": "stderr",
     "output_type": "stream",
     "text": [
      "C:\\Users\\swath\\anaconda3\\lib\\site-packages\\sklearn\\metrics\\_classification.py:1318: UndefinedMetricWarning: Precision and F-score are ill-defined and being set to 0.0 in labels with no predicted samples. Use `zero_division` parameter to control this behavior.\n",
      "  _warn_prf(average, modifier, msg_start, len(result))\n",
      "C:\\Users\\swath\\anaconda3\\lib\\site-packages\\sklearn\\metrics\\_classification.py:1318: UndefinedMetricWarning: Precision and F-score are ill-defined and being set to 0.0 in labels with no predicted samples. Use `zero_division` parameter to control this behavior.\n",
      "  _warn_prf(average, modifier, msg_start, len(result))\n"
     ]
    },
    {
     "name": "stdout",
     "output_type": "stream",
     "text": [
      "Classification Report:\n",
      "                         precision    recall  f1-score   support\n",
      "\n",
      "                (null)       0.98      0.96      0.97      2634\n",
      "                   ABC       1.00      0.68      0.81        31\n",
      "               AIR GUN       1.00      0.94      0.97        17\n",
      "               ALCOHOL       1.00      1.00      1.00       314\n",
      "                  AMMO       1.00      1.00      1.00         1\n",
      "             AVIGATION       0.00      0.00      0.00         1\n",
      "                  BIKE       1.00      1.00      1.00       128\n",
      "              BUSINESS       1.00      0.33      0.50         3\n",
      "    DISORDERLY CONDUCT       1.00      0.99      1.00       187\n",
      "                   DOG       1.00      0.25      0.40         8\n",
      "         EDUCATION LAW       1.00      1.00      1.00         3\n",
      "              EXPOSURE       1.00      0.40      0.57         5\n",
      "             FIREWORKS       1.00      1.00      1.00         3\n",
      "              GAMBLING       0.00      0.00      0.00         2\n",
      "          HARASSMENT 2       0.00      0.00      0.00         5\n",
      "                   KEY       1.00      0.50      0.67         2\n",
      "                 KNIFE       1.00      1.00      1.00        31\n",
      "             LITTERING       1.00      1.00      1.00        65\n",
      "             LOITERING       0.00      0.00      0.00         1\n",
      "                 NOISE       1.00      0.92      0.96        62\n",
      "             NYS TRANS       1.00      1.00      1.00      1277\n",
      "             OPEN FIRE       1.00      0.33      0.50         3\n",
      "          OPEN HYDRANT       1.00      1.00      1.00         1\n",
      "             OTHER ABC       1.00      0.92      0.96       102\n",
      "      OTHER ADMIN CODE       1.00      0.91      0.95        32\n",
      "        OTHER PARK REG       1.00      0.33      0.50         3\n",
      "       OTHER PENAL LAW       1.00      1.00      1.00        71\n",
      "             PARK REGS       1.00      0.81      0.89        21\n",
      "POSTING ADVERTISEMENTS       0.00      0.00      0.00         5\n",
      "         SANITARY CODE       1.00      1.00      1.00         2\n",
      "               SMOKING       1.00      1.00      1.00        15\n",
      "              SPITTING       1.00      0.67      0.80        15\n",
      "                   TLC       0.58      0.98      0.73       187\n",
      "             TOW TRUCK       0.00      0.00      0.00         2\n",
      "          TRAFFIC REGS       1.00      0.96      0.98        26\n",
      "              TRESPASS       1.00      1.00      1.00       335\n",
      "             URINATING       1.00      0.94      0.97        31\n",
      "               VENDING       1.00      0.92      0.96        93\n",
      "                   VTL       0.99      0.98      0.99       765\n",
      "\n",
      "              accuracy                           0.97      6489\n",
      "             macro avg       0.83      0.71      0.75      6489\n",
      "          weighted avg       0.98      0.97      0.97      6489\n",
      "\n"
     ]
    },
    {
     "name": "stderr",
     "output_type": "stream",
     "text": [
      "C:\\Users\\swath\\anaconda3\\lib\\site-packages\\sklearn\\metrics\\_classification.py:1318: UndefinedMetricWarning: Precision and F-score are ill-defined and being set to 0.0 in labels with no predicted samples. Use `zero_division` parameter to control this behavior.\n",
      "  _warn_prf(average, modifier, msg_start, len(result))\n"
     ]
    }
   ],
   "source": [
    "import pandas as pd\n",
    "from sklearn.model_selection import train_test_split\n",
    "from sklearn.ensemble import RandomForestClassifier\n",
    "from sklearn.metrics import accuracy_score\n",
    "from sklearn.preprocessing import OneHotEncoder\n",
    "from sklearn.metrics import classification_report\n",
    "\n",
    "# Select the features and target variables\n",
    "features = nyc_summon[['age_group', 'race', 'sex', 'offense_description', 'jurisdiction_code']]\n",
    "target = nyc_summon['summons_category_type']\n",
    "\n",
    "# Perform one-hot encoding on the categorical variables\n",
    "encoder = OneHotEncoder(drop='first', sparse=False)\n",
    "encoded_features = pd.DataFrame(encoder.fit_transform(features.select_dtypes(include='object')))\n",
    "numerical_features = features.select_dtypes(exclude='object').reset_index(drop=True)\n",
    "encoded_features = pd.concat([encoded_features, numerical_features], axis=1)\n",
    "\n",
    "# Split the data into training and testing sets\n",
    "X_train, X_test, y_train, y_test = train_test_split(encoded_features, target, test_size=0.3, random_state=42)\n",
    "\n",
    "# Initialize the Random Forest Classifier\n",
    "model = RandomForestClassifier()\n",
    "\n",
    "# Fit the model to the training data\n",
    "model.fit(X_train, y_train)\n",
    "\n",
    "# Predict the target variable for the test data\n",
    "predictions = model.predict(X_test)\n",
    "\n",
    "# Calculate the accuracy\n",
    "accuracy = accuracy_score(y_test, predictions)\n",
    "print(\"Accuracy:\", accuracy)\n",
    "\n",
    "# Calculate the evaluation metrics\n",
    "report = classification_report(y_test, predictions)\n",
    "\n",
    "# Print the classification report\n",
    "print(\"Classification Report:\\n\", report)"
   ]
  },
  {
   "cell_type": "code",
   "execution_count": null,
   "metadata": {},
   "outputs": [],
   "source": []
  }
 ],
 "metadata": {
  "colab": {
   "provenance": []
  },
  "kernelspec": {
   "display_name": "Python 3 (ipykernel)",
   "language": "python",
   "name": "python3"
  },
  "language_info": {
   "codemirror_mode": {
    "name": "ipython",
    "version": 3
   },
   "file_extension": ".py",
   "mimetype": "text/x-python",
   "name": "python",
   "nbconvert_exporter": "python",
   "pygments_lexer": "ipython3",
   "version": "3.9.12"
  }
 },
 "nbformat": 4,
 "nbformat_minor": 1
}
